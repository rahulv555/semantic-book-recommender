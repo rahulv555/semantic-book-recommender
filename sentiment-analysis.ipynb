{
 "cells": [
  {
   "metadata": {},
   "cell_type": "markdown",
   "source": "## For sentiment analysis, we will finetune an encoder model, to give sentiment as output",
   "id": "39fbf87a398e5a42"
  },
  {
   "cell_type": "code",
   "id": "initial_id",
   "metadata": {
    "collapsed": true,
    "ExecuteTime": {
     "end_time": "2025-05-04T17:53:32.826657Z",
     "start_time": "2025-05-04T17:53:32.580073Z"
    }
   },
   "source": [
    "import pandas as pd\n",
    "books = pd.read_csv('books_with_categories.csv')"
   ],
   "outputs": [],
   "execution_count": 35
  },
  {
   "metadata": {},
   "cell_type": "markdown",
   "source": "### Here, we use already finetuned model",
   "id": "17a42d52bb10734e"
  },
  {
   "metadata": {
    "ExecuteTime": {
     "end_time": "2025-05-04T08:06:17.279749Z",
     "start_time": "2025-05-04T08:06:15.966421Z"
    }
   },
   "cell_type": "code",
   "source": [
    "from transformers import pipeline\n",
    "classifier = pipeline(\"text-classification\", model=\"j-hartmann/emotion-english-distilroberta-base\", top_k=None, device=0)\n",
    "classifier(\"I love this!\")"
   ],
   "id": "9feaea8d9773c36d",
   "outputs": [
    {
     "name": "stderr",
     "output_type": "stream",
     "text": [
      "Device set to use cuda:0\n"
     ]
    },
    {
     "data": {
      "text/plain": [
       "[[{'label': 'joy', 'score': 0.9771687984466553},\n",
       "  {'label': 'surprise', 'score': 0.008528684265911579},\n",
       "  {'label': 'neutral', 'score': 0.005764591973274946},\n",
       "  {'label': 'anger', 'score': 0.004419785924255848},\n",
       "  {'label': 'sadness', 'score': 0.0020923891570419073},\n",
       "  {'label': 'disgust', 'score': 0.001611991785466671},\n",
       "  {'label': 'fear', 'score': 0.00041385178337804973}]]"
      ]
     },
     "execution_count": 3,
     "metadata": {},
     "output_type": "execute_result"
    }
   ],
   "execution_count": 3
  },
  {
   "metadata": {
    "ExecuteTime": {
     "end_time": "2025-05-04T08:10:07.370219Z",
     "start_time": "2025-05-04T08:10:07.364629Z"
    }
   },
   "cell_type": "code",
   "source": "books[\"description\"][0]",
   "id": "a5c89fc94600fdc2",
   "outputs": [
    {
     "data": {
      "text/plain": [
       "'A NOVEL THAT READERS and critics have been eagerly anticipating for over a decade, Gilead is an astonishingly imagined story of remarkable lives. John Ames is a preacher, the son of a preacher and the grandson (both maternal and paternal) of preachers. It’s 1956 in Gilead, Iowa, towards the end of the Reverend Ames’s life, and he is absorbed in recording his family’s story, a legacy for the young son he will never see grow up. Haunted by his grandfather’s presence, John tells of the rift between his grandfather and his father: the elder, an angry visionary who fought for the abolitionist cause, and his son, an ardent pacifist. He is troubled, too, by his prodigal namesake, Jack (John Ames) Boughton, his best friend’s lost son who returns to Gilead searching for forgiveness and redemption. Told in John Ames’s joyous, rambling voice that finds beauty, humour and truth in the smallest of life’s details, Gilead is a song of celebration and acceptance of the best and the worst the world has to offer. At its heart is a tale of the sacred bonds between fathers and sons, pitch-perfect in style and story, set to dazzle critics and readers alike.'"
      ]
     },
     "execution_count": 4,
     "metadata": {},
     "output_type": "execute_result"
    }
   ],
   "execution_count": 4
  },
  {
   "metadata": {},
   "cell_type": "markdown",
   "source": "### We will do sentiment analysis on each sentence of the description (as it is a mixture of emotions)",
   "id": "396233e82636189e"
  },
  {
   "metadata": {
    "ExecuteTime": {
     "end_time": "2025-05-04T08:12:32.379056Z",
     "start_time": "2025-05-04T08:12:32.138041Z"
    }
   },
   "cell_type": "code",
   "source": "classifier(books[\"description\"][0].split(\".\"))",
   "id": "a103ef4f4d4fc348",
   "outputs": [
    {
     "data": {
      "text/plain": [
       "[[{'label': 'surprise', 'score': 0.7296027541160583},\n",
       "  {'label': 'neutral', 'score': 0.14038564264774323},\n",
       "  {'label': 'fear', 'score': 0.06816219538450241},\n",
       "  {'label': 'joy', 'score': 0.04794240742921829},\n",
       "  {'label': 'anger', 'score': 0.009156349115073681},\n",
       "  {'label': 'disgust', 'score': 0.002628474263474345},\n",
       "  {'label': 'sadness', 'score': 0.0021221593488007784}],\n",
       " [{'label': 'neutral', 'score': 0.44937071204185486},\n",
       "  {'label': 'disgust', 'score': 0.2735914885997772},\n",
       "  {'label': 'joy', 'score': 0.10908304899930954},\n",
       "  {'label': 'sadness', 'score': 0.09362724423408508},\n",
       "  {'label': 'anger', 'score': 0.040478333830833435},\n",
       "  {'label': 'surprise', 'score': 0.02697017975151539},\n",
       "  {'label': 'fear', 'score': 0.006879060063511133}],\n",
       " [{'label': 'neutral', 'score': 0.6462162137031555},\n",
       "  {'label': 'sadness', 'score': 0.2427332103252411},\n",
       "  {'label': 'disgust', 'score': 0.04342261329293251},\n",
       "  {'label': 'surprise', 'score': 0.028300540521740913},\n",
       "  {'label': 'joy', 'score': 0.014211442321538925},\n",
       "  {'label': 'fear', 'score': 0.014084079302847385},\n",
       "  {'label': 'anger', 'score': 0.011031880043447018}],\n",
       " [{'label': 'fear', 'score': 0.928167998790741},\n",
       "  {'label': 'anger', 'score': 0.03219102695584297},\n",
       "  {'label': 'neutral', 'score': 0.012808729894459248},\n",
       "  {'label': 'sadness', 'score': 0.008756889030337334},\n",
       "  {'label': 'surprise', 'score': 0.008597911335527897},\n",
       "  {'label': 'disgust', 'score': 0.008431846275925636},\n",
       "  {'label': 'joy', 'score': 0.001045582932420075}],\n",
       " [{'label': 'sadness', 'score': 0.9671575427055359},\n",
       "  {'label': 'neutral', 'score': 0.015104170888662338},\n",
       "  {'label': 'disgust', 'score': 0.006480592768639326},\n",
       "  {'label': 'fear', 'score': 0.005393994972109795},\n",
       "  {'label': 'surprise', 'score': 0.0022869433742016554},\n",
       "  {'label': 'anger', 'score': 0.0018428893527016044},\n",
       "  {'label': 'joy', 'score': 0.0017338789766654372}],\n",
       " [{'label': 'joy', 'score': 0.9327971935272217},\n",
       "  {'label': 'disgust', 'score': 0.03771771863102913},\n",
       "  {'label': 'neutral', 'score': 0.01589190773665905},\n",
       "  {'label': 'sadness', 'score': 0.006444551516324282},\n",
       "  {'label': 'anger', 'score': 0.005025018472224474},\n",
       "  {'label': 'surprise', 'score': 0.0015812073834240437},\n",
       "  {'label': 'fear', 'score': 0.0005423100665211678}],\n",
       " [{'label': 'joy', 'score': 0.6528703570365906},\n",
       "  {'label': 'neutral', 'score': 0.25427502393722534},\n",
       "  {'label': 'surprise', 'score': 0.0680830255150795},\n",
       "  {'label': 'sadness', 'score': 0.009908979758620262},\n",
       "  {'label': 'disgust', 'score': 0.006512209307402372},\n",
       "  {'label': 'anger', 'score': 0.004821312613785267},\n",
       "  {'label': 'fear', 'score': 0.003529016626998782}],\n",
       " [{'label': 'neutral', 'score': 0.5494765639305115},\n",
       "  {'label': 'sadness', 'score': 0.1116902083158493},\n",
       "  {'label': 'disgust', 'score': 0.10400670021772385},\n",
       "  {'label': 'surprise', 'score': 0.07876555621623993},\n",
       "  {'label': 'anger', 'score': 0.0641336739063263},\n",
       "  {'label': 'fear', 'score': 0.05136282742023468},\n",
       "  {'label': 'joy', 'score': 0.040564440190792084}]]"
      ]
     },
     "execution_count": 5,
     "metadata": {},
     "output_type": "execute_result"
    }
   ],
   "execution_count": 5
  },
  {
   "metadata": {
    "ExecuteTime": {
     "end_time": "2025-05-04T08:12:56.721770Z",
     "start_time": "2025-05-04T08:12:56.473203Z"
    }
   },
   "cell_type": "code",
   "source": [
    "sentences = books[\"description\"][0].split(\".\")\n",
    "predictions = classifier(sentences)"
   ],
   "id": "f8b614b5c4392c6",
   "outputs": [],
   "execution_count": 6
  },
  {
   "metadata": {
    "ExecuteTime": {
     "end_time": "2025-05-04T08:13:06.297137Z",
     "start_time": "2025-05-04T08:13:06.291622Z"
    }
   },
   "cell_type": "code",
   "source": "sentences[3]",
   "id": "78eadaed33986736",
   "outputs": [
    {
     "data": {
      "text/plain": [
       "' Haunted by his grandfather’s presence, John tells of the rift between his grandfather and his father: the elder, an angry visionary who fought for the abolitionist cause, and his son, an ardent pacifist'"
      ]
     },
     "execution_count": 7,
     "metadata": {},
     "output_type": "execute_result"
    }
   ],
   "execution_count": 7
  },
  {
   "metadata": {
    "ExecuteTime": {
     "end_time": "2025-05-04T08:13:12.113813Z",
     "start_time": "2025-05-04T08:13:12.108143Z"
    }
   },
   "cell_type": "code",
   "source": "predictions[3]",
   "id": "77c2019f6aeeb3f1",
   "outputs": [
    {
     "data": {
      "text/plain": [
       "[{'label': 'fear', 'score': 0.928167998790741},\n",
       " {'label': 'anger', 'score': 0.03219102695584297},\n",
       " {'label': 'neutral', 'score': 0.012808729894459248},\n",
       " {'label': 'sadness', 'score': 0.008756889030337334},\n",
       " {'label': 'surprise', 'score': 0.008597911335527897},\n",
       " {'label': 'disgust', 'score': 0.008431846275925636},\n",
       " {'label': 'joy', 'score': 0.001045582932420075}]"
      ]
     },
     "execution_count": 8,
     "metadata": {},
     "output_type": "execute_result"
    }
   ],
   "execution_count": 8
  },
  {
   "metadata": {},
   "cell_type": "markdown",
   "source": "#### we take max probability for each sentence",
   "id": "44859bf819baf607"
  },
  {
   "metadata": {
    "ExecuteTime": {
     "end_time": "2025-05-04T08:16:10.505388Z",
     "start_time": "2025-05-04T08:16:10.499322Z"
    }
   },
   "cell_type": "code",
   "source": "sorted(predictions[0], key=lambda x: x[\"label\"])",
   "id": "bc0153933f3d3fd3",
   "outputs": [
    {
     "data": {
      "text/plain": [
       "[{'label': 'anger', 'score': 0.009156349115073681},\n",
       " {'label': 'disgust', 'score': 0.002628474263474345},\n",
       " {'label': 'fear', 'score': 0.06816219538450241},\n",
       " {'label': 'joy', 'score': 0.04794240742921829},\n",
       " {'label': 'neutral', 'score': 0.14038564264774323},\n",
       " {'label': 'sadness', 'score': 0.0021221593488007784},\n",
       " {'label': 'surprise', 'score': 0.7296027541160583}]"
      ]
     },
     "execution_count": 10,
     "metadata": {},
     "output_type": "execute_result"
    }
   ],
   "execution_count": 10
  },
  {
   "metadata": {
    "ExecuteTime": {
     "end_time": "2025-05-04T17:29:14.659204Z",
     "start_time": "2025-05-04T17:29:14.651295Z"
    }
   },
   "cell_type": "code",
   "source": [
    "import numpy as np\n",
    "\n",
    "emotion_labels = sorted([\"anger\", \"disgust\", \"fear\", \"joy\", \"sadness\", \"surprise\", \"neutral\"])\n",
    "\n",
    "\n",
    "emotion_scores = {label: [] for label in emotion_labels} #all of the scores for every single description for each of the emotion_labels\n",
    "\n",
    "def calculate_max_emotion_scores(predictions): #for one description\n",
    "    per_description_emotion_scores = {label: [] for label in emotion_labels}\n",
    "    for prediction in predictions:\n",
    "        sorted_predictions = sorted(prediction, key=lambda x: x[\"label\"])\n",
    "        for index, label in enumerate(emotion_labels):\n",
    "            per_description_emotion_scores[label].append(sorted_predictions[index][\"score\"])\n",
    "    return {label: np.max(scores) for label, scores in per_description_emotion_scores.items()} #max probability for each of the labels"
   ],
   "id": "71e03ccaa4114293",
   "outputs": [],
   "execution_count": 25
  },
  {
   "metadata": {
    "ExecuteTime": {
     "end_time": "2025-05-04T17:29:16.204157Z",
     "start_time": "2025-05-04T17:29:15.584017Z"
    }
   },
   "cell_type": "code",
   "source": [
    "isbn = []\n",
    "\n",
    "for i in range(10):\n",
    "    isbn.append(books[\"isbn13\"][i])\n",
    "    sentences = books[\"description\"][i].split(\".\")\n",
    "    predictions = classifier(sentences)\n",
    "    max_scores = calculate_max_emotion_scores(predictions)\n",
    "    for label in emotion_labels:\n",
    "        emotion_scores[label].append(max_scores[label]) #max probability of each emotion, for a book\n"
   ],
   "id": "ddd46a61dd497fb7",
   "outputs": [],
   "execution_count": 26
  },
  {
   "metadata": {
    "ExecuteTime": {
     "end_time": "2025-05-04T17:29:16.819796Z",
     "start_time": "2025-05-04T17:29:16.813726Z"
    }
   },
   "cell_type": "code",
   "source": "emotion_scores",
   "id": "5839c4d5ff684ba1",
   "outputs": [
    {
     "data": {
      "text/plain": [
       "{'anger': [np.float64(0.0641336739063263),\n",
       "  np.float64(0.6126185059547424),\n",
       "  np.float64(0.0641336739063263),\n",
       "  np.float64(0.35148391127586365),\n",
       "  np.float64(0.08141247183084488),\n",
       "  np.float64(0.2322249710559845),\n",
       "  np.float64(0.5381842255592346),\n",
       "  np.float64(0.0641336739063263),\n",
       "  np.float64(0.30067017674446106),\n",
       "  np.float64(0.0641336739063263)],\n",
       " 'disgust': [np.float64(0.2735914885997772),\n",
       "  np.float64(0.34828445315361023),\n",
       "  np.float64(0.10400670021772385),\n",
       "  np.float64(0.15072262287139893),\n",
       "  np.float64(0.1844954937696457),\n",
       "  np.float64(0.727174699306488),\n",
       "  np.float64(0.15585514903068542),\n",
       "  np.float64(0.10400670021772385),\n",
       "  np.float64(0.2794813811779022),\n",
       "  np.float64(0.1779276728630066)],\n",
       " 'fear': [np.float64(0.928167998790741),\n",
       "  np.float64(0.9425278306007385),\n",
       "  np.float64(0.9723208546638489),\n",
       "  np.float64(0.36070629954338074),\n",
       "  np.float64(0.09504334628582001),\n",
       "  np.float64(0.05136282742023468),\n",
       "  np.float64(0.7474286556243896),\n",
       "  np.float64(0.4044959247112274),\n",
       "  np.float64(0.9155241250991821),\n",
       "  np.float64(0.05136282742023468)],\n",
       " 'joy': [np.float64(0.9327971935272217),\n",
       "  np.float64(0.7044215202331543),\n",
       "  np.float64(0.7672368884086609),\n",
       "  np.float64(0.25188103318214417),\n",
       "  np.float64(0.040564440190792084),\n",
       "  np.float64(0.04337584972381592),\n",
       "  np.float64(0.8725654482841492),\n",
       "  np.float64(0.040564440190792084),\n",
       "  np.float64(0.040564440190792084),\n",
       "  np.float64(0.040564440190792084)],\n",
       " 'neutral': [np.float64(0.6462162137031555),\n",
       "  np.float64(0.8879395127296448),\n",
       "  np.float64(0.5494765639305115),\n",
       "  np.float64(0.732685387134552),\n",
       "  np.float64(0.8843895196914673),\n",
       "  np.float64(0.6213927268981934),\n",
       "  np.float64(0.7121942639350891),\n",
       "  np.float64(0.5494765639305115),\n",
       "  np.float64(0.8402896523475647),\n",
       "  np.float64(0.8603722453117371)],\n",
       " 'sadness': [np.float64(0.9671575427055359),\n",
       "  np.float64(0.1116902083158493),\n",
       "  np.float64(0.1116902083158493),\n",
       "  np.float64(0.1116902083158493),\n",
       "  np.float64(0.4758804440498352),\n",
       "  np.float64(0.1116902083158493),\n",
       "  np.float64(0.40800032019615173),\n",
       "  np.float64(0.820281982421875),\n",
       "  np.float64(0.35446029901504517),\n",
       "  np.float64(0.1116902083158493)],\n",
       " 'surprise': [np.float64(0.7296027541160583),\n",
       "  np.float64(0.2525451183319092),\n",
       "  np.float64(0.07876555621623993),\n",
       "  np.float64(0.07876555621623993),\n",
       "  np.float64(0.07876555621623993),\n",
       "  np.float64(0.27190276980400085),\n",
       "  np.float64(0.07876555621623993),\n",
       "  np.float64(0.23448748886585236),\n",
       "  np.float64(0.1356140822172165),\n",
       "  np.float64(0.07876555621623993)]}"
      ]
     },
     "execution_count": 27,
     "metadata": {},
     "output_type": "execute_result"
    }
   ],
   "execution_count": 27
  },
  {
   "metadata": {
    "ExecuteTime": {
     "end_time": "2025-05-04T17:34:52.307350Z",
     "start_time": "2025-05-04T17:29:49.363955Z"
    }
   },
   "cell_type": "code",
   "source": [
    "from tqdm import tqdm\n",
    "\n",
    "import numpy as np\n",
    "\n",
    "emotion_labels = [\"anger\", \"disgust\", \"fear\", \"joy\", \"sadness\", \"surprise\", \"neutral\"]\n",
    "\n",
    "isbn = []\n",
    "\n",
    "emotion_scores = {label: [] for label in emotion_labels}\n",
    "\n",
    "for i in tqdm(range(len(books))):\n",
    "    isbn.append(books[\"isbn13\"][i])\n",
    "    sentences = books[\"description\"][i].split(\".\")\n",
    "    predictions = classifier(sentences)\n",
    "    max_scores = calculate_max_emotion_scores(predictions)\n",
    "    for label in emotion_labels:\n",
    "        emotion_scores[label].append(max_scores[label]) #max probability of each emotion, for a book"
   ],
   "id": "1af997dd52eeb923",
   "outputs": [
    {
     "name": "stderr",
     "output_type": "stream",
     "text": [
      "100%|██████████| 5197/5197 [05:02<00:00, 17.16it/s]\n"
     ]
    }
   ],
   "execution_count": 28
  },
  {
   "metadata": {
    "ExecuteTime": {
     "end_time": "2025-05-04T17:34:52.408892Z",
     "start_time": "2025-05-04T17:34:52.384665Z"
    }
   },
   "cell_type": "code",
   "source": [
    "emotions_df = pd.DataFrame(emotion_scores)\n",
    "emotions_df[\"isbn13\"] = isbn"
   ],
   "id": "158e127044d1bcd8",
   "outputs": [],
   "execution_count": 29
  },
  {
   "metadata": {
    "ExecuteTime": {
     "end_time": "2025-05-04T17:34:52.502124Z",
     "start_time": "2025-05-04T17:34:52.474231Z"
    }
   },
   "cell_type": "code",
   "source": "emotions_df",
   "id": "2ad9fe53ef9ba6dc",
   "outputs": [
    {
     "data": {
      "text/plain": [
       "         anger   disgust      fear       joy   sadness  surprise   neutral  \\\n",
       "0     0.064134  0.273591  0.928168  0.932797  0.646216  0.967158  0.729603   \n",
       "1     0.612619  0.348284  0.942528  0.704422  0.887940  0.111690  0.252545   \n",
       "2     0.064134  0.104007  0.972321  0.767237  0.549477  0.111690  0.078766   \n",
       "3     0.351484  0.150723  0.360706  0.251881  0.732685  0.111690  0.078766   \n",
       "4     0.081412  0.184495  0.095043  0.040564  0.884390  0.475880  0.078766   \n",
       "...        ...       ...       ...       ...       ...       ...       ...   \n",
       "5192  0.148208  0.030643  0.919165  0.255170  0.853722  0.980877  0.030656   \n",
       "5193  0.064134  0.114383  0.051363  0.400263  0.883199  0.111690  0.227765   \n",
       "5194  0.009997  0.009929  0.339218  0.947779  0.375755  0.066685  0.057625   \n",
       "5195  0.064134  0.104007  0.459269  0.759455  0.951104  0.368111  0.078766   \n",
       "5196  0.064134  0.104007  0.051363  0.958549  0.915193  0.111690  0.078766   \n",
       "\n",
       "             isbn13  \n",
       "0     9780002005883  \n",
       "1     9780002261982  \n",
       "2     9780006178736  \n",
       "3     9780006280897  \n",
       "4     9780006280934  \n",
       "...             ...  \n",
       "5192  9788172235222  \n",
       "5193  9788173031014  \n",
       "5194  9788179921623  \n",
       "5195  9788185300535  \n",
       "5196  9789027712059  \n",
       "\n",
       "[5197 rows x 8 columns]"
      ],
      "text/html": [
       "<div>\n",
       "<style scoped>\n",
       "    .dataframe tbody tr th:only-of-type {\n",
       "        vertical-align: middle;\n",
       "    }\n",
       "\n",
       "    .dataframe tbody tr th {\n",
       "        vertical-align: top;\n",
       "    }\n",
       "\n",
       "    .dataframe thead th {\n",
       "        text-align: right;\n",
       "    }\n",
       "</style>\n",
       "<table border=\"1\" class=\"dataframe\">\n",
       "  <thead>\n",
       "    <tr style=\"text-align: right;\">\n",
       "      <th></th>\n",
       "      <th>anger</th>\n",
       "      <th>disgust</th>\n",
       "      <th>fear</th>\n",
       "      <th>joy</th>\n",
       "      <th>sadness</th>\n",
       "      <th>surprise</th>\n",
       "      <th>neutral</th>\n",
       "      <th>isbn13</th>\n",
       "    </tr>\n",
       "  </thead>\n",
       "  <tbody>\n",
       "    <tr>\n",
       "      <th>0</th>\n",
       "      <td>0.064134</td>\n",
       "      <td>0.273591</td>\n",
       "      <td>0.928168</td>\n",
       "      <td>0.932797</td>\n",
       "      <td>0.646216</td>\n",
       "      <td>0.967158</td>\n",
       "      <td>0.729603</td>\n",
       "      <td>9780002005883</td>\n",
       "    </tr>\n",
       "    <tr>\n",
       "      <th>1</th>\n",
       "      <td>0.612619</td>\n",
       "      <td>0.348284</td>\n",
       "      <td>0.942528</td>\n",
       "      <td>0.704422</td>\n",
       "      <td>0.887940</td>\n",
       "      <td>0.111690</td>\n",
       "      <td>0.252545</td>\n",
       "      <td>9780002261982</td>\n",
       "    </tr>\n",
       "    <tr>\n",
       "      <th>2</th>\n",
       "      <td>0.064134</td>\n",
       "      <td>0.104007</td>\n",
       "      <td>0.972321</td>\n",
       "      <td>0.767237</td>\n",
       "      <td>0.549477</td>\n",
       "      <td>0.111690</td>\n",
       "      <td>0.078766</td>\n",
       "      <td>9780006178736</td>\n",
       "    </tr>\n",
       "    <tr>\n",
       "      <th>3</th>\n",
       "      <td>0.351484</td>\n",
       "      <td>0.150723</td>\n",
       "      <td>0.360706</td>\n",
       "      <td>0.251881</td>\n",
       "      <td>0.732685</td>\n",
       "      <td>0.111690</td>\n",
       "      <td>0.078766</td>\n",
       "      <td>9780006280897</td>\n",
       "    </tr>\n",
       "    <tr>\n",
       "      <th>4</th>\n",
       "      <td>0.081412</td>\n",
       "      <td>0.184495</td>\n",
       "      <td>0.095043</td>\n",
       "      <td>0.040564</td>\n",
       "      <td>0.884390</td>\n",
       "      <td>0.475880</td>\n",
       "      <td>0.078766</td>\n",
       "      <td>9780006280934</td>\n",
       "    </tr>\n",
       "    <tr>\n",
       "      <th>...</th>\n",
       "      <td>...</td>\n",
       "      <td>...</td>\n",
       "      <td>...</td>\n",
       "      <td>...</td>\n",
       "      <td>...</td>\n",
       "      <td>...</td>\n",
       "      <td>...</td>\n",
       "      <td>...</td>\n",
       "    </tr>\n",
       "    <tr>\n",
       "      <th>5192</th>\n",
       "      <td>0.148208</td>\n",
       "      <td>0.030643</td>\n",
       "      <td>0.919165</td>\n",
       "      <td>0.255170</td>\n",
       "      <td>0.853722</td>\n",
       "      <td>0.980877</td>\n",
       "      <td>0.030656</td>\n",
       "      <td>9788172235222</td>\n",
       "    </tr>\n",
       "    <tr>\n",
       "      <th>5193</th>\n",
       "      <td>0.064134</td>\n",
       "      <td>0.114383</td>\n",
       "      <td>0.051363</td>\n",
       "      <td>0.400263</td>\n",
       "      <td>0.883199</td>\n",
       "      <td>0.111690</td>\n",
       "      <td>0.227765</td>\n",
       "      <td>9788173031014</td>\n",
       "    </tr>\n",
       "    <tr>\n",
       "      <th>5194</th>\n",
       "      <td>0.009997</td>\n",
       "      <td>0.009929</td>\n",
       "      <td>0.339218</td>\n",
       "      <td>0.947779</td>\n",
       "      <td>0.375755</td>\n",
       "      <td>0.066685</td>\n",
       "      <td>0.057625</td>\n",
       "      <td>9788179921623</td>\n",
       "    </tr>\n",
       "    <tr>\n",
       "      <th>5195</th>\n",
       "      <td>0.064134</td>\n",
       "      <td>0.104007</td>\n",
       "      <td>0.459269</td>\n",
       "      <td>0.759455</td>\n",
       "      <td>0.951104</td>\n",
       "      <td>0.368111</td>\n",
       "      <td>0.078766</td>\n",
       "      <td>9788185300535</td>\n",
       "    </tr>\n",
       "    <tr>\n",
       "      <th>5196</th>\n",
       "      <td>0.064134</td>\n",
       "      <td>0.104007</td>\n",
       "      <td>0.051363</td>\n",
       "      <td>0.958549</td>\n",
       "      <td>0.915193</td>\n",
       "      <td>0.111690</td>\n",
       "      <td>0.078766</td>\n",
       "      <td>9789027712059</td>\n",
       "    </tr>\n",
       "  </tbody>\n",
       "</table>\n",
       "<p>5197 rows × 8 columns</p>\n",
       "</div>"
      ]
     },
     "execution_count": 30,
     "metadata": {},
     "output_type": "execute_result"
    }
   ],
   "execution_count": 30
  },
  {
   "metadata": {
    "ExecuteTime": {
     "end_time": "2025-05-04T17:53:51.404566Z",
     "start_time": "2025-05-04T17:53:51.397445Z"
    }
   },
   "cell_type": "code",
   "source": "books = pd.merge(books, emotions_df, on=\"isbn13\")",
   "id": "f1e53bcde740a936",
   "outputs": [],
   "execution_count": 36
  },
  {
   "metadata": {
    "ExecuteTime": {
     "end_time": "2025-05-04T17:53:52.723812Z",
     "start_time": "2025-05-04T17:53:52.439521Z"
    }
   },
   "cell_type": "code",
   "source": "books.to_csv(\"books_with_emotions.csv\", index=False)",
   "id": "94cf476fd101df4a",
   "outputs": [],
   "execution_count": 37
  },
  {
   "metadata": {
    "ExecuteTime": {
     "end_time": "2025-05-04T17:53:52.797639Z",
     "start_time": "2025-05-04T17:53:52.792116Z"
    }
   },
   "cell_type": "code",
   "source": "books.columns",
   "id": "28ab1b6984839c69",
   "outputs": [
    {
     "data": {
      "text/plain": [
       "Index(['isbn13', 'isbn10', 'title', 'authors', 'categories', 'thumbnail',\n",
       "       'description', 'published_year', 'average_rating', 'num_pages',\n",
       "       'ratings_count', 'title_and_subtitle', 'tagged_description',\n",
       "       'simple_categories', 'anger', 'disgust', 'fear', 'joy', 'sadness',\n",
       "       'surprise', 'neutral'],\n",
       "      dtype='object')"
      ]
     },
     "execution_count": 38,
     "metadata": {},
     "output_type": "execute_result"
    }
   ],
   "execution_count": 38
  },
  {
   "metadata": {},
   "cell_type": "code",
   "outputs": [],
   "execution_count": null,
   "source": "",
   "id": "3818b383a2934bd4"
  }
 ],
 "metadata": {
  "kernelspec": {
   "display_name": "Python 3",
   "language": "python",
   "name": "python3"
  },
  "language_info": {
   "codemirror_mode": {
    "name": "ipython",
    "version": 2
   },
   "file_extension": ".py",
   "mimetype": "text/x-python",
   "name": "python",
   "nbconvert_exporter": "python",
   "pygments_lexer": "ipython2",
   "version": "2.7.6"
  }
 },
 "nbformat": 4,
 "nbformat_minor": 5
}
